{
 "cells": [
  {
   "cell_type": "code",
   "execution_count": null,
   "id": "80cf8822",
   "metadata": {},
   "outputs": [],
   "source": [
    "# https://unofficed.com/courses/mastering-algotrading-a-beginners-guide-using-kiteconnect-api/lessons/getting-historical-data-of-reliance-stocks-using-python-and-zerodha-api/"
   ]
  },
  {
   "cell_type": "code",
   "execution_count": 1,
   "id": "1d446c7b",
   "metadata": {},
   "outputs": [
    {
     "name": "stderr",
     "output_type": "stream",
     "text": [
      "/tmp/ipykernel_4126796/1105643221.py:8: DtypeWarning: Columns (1) have mixed types.Specify dtype option on import or set low_memory=False.\n",
      "  from kite.kitecustom import *\n"
     ]
    }
   ],
   "source": [
    "import logging\n",
    "from kiteconnect import KiteConnect\n",
    "\n",
    "logging.basicConfig(level=logging.DEBUG)\n",
    "\n",
    "kite = KiteConnect(api_key=\"your_api_key\")\n",
    "\n",
    "# Redirect the user to the login url obtained\n",
    "# from kite.login_url(), and receive the request_token\n",
    "# from the registered redirect url after the login flow.\n",
    "# Once you have the request_token, obtain the access_token\n",
    "# as follows.\n",
    "\n",
    "data = kite.generate_session(\"request_token_here\", api_secret=\"your_secret\")\n",
    "kite.set_access_token(data[\"access_token\"])"
   ]
  },
  {
   "cell_type": "code",
   "execution_count": 4,
   "id": "58dbcb1d",
   "metadata": {},
   "outputs": [],
   "source": [
    "token = 738561"
   ]
  },
  {
   "cell_type": "code",
   "execution_count": 5,
   "id": "3a7cc37a",
   "metadata": {},
   "outputs": [],
   "source": [
    "import datetime\n",
    "starting_date=datetime.datetime(2019, 1, 1)\n",
    "ending_date=datetime.datetime.today()"
   ]
  },
  {
   "cell_type": "code",
   "execution_count": 6,
   "id": "eb26ad4c",
   "metadata": {},
   "outputs": [
    {
     "name": "stdout",
     "output_type": "stream",
     "text": [
      "                       date     open     high      low    close   volume\n",
      "0 2019-01-01 00:00:00+05:30  1072.60  1074.55  1058.15  1068.55  4674623\n",
      "1 2019-01-02 00:00:00+05:30  1062.35  1074.25  1049.45  1054.60  7495774\n",
      "2 2019-01-03 00:00:00+05:30  1055.65  1062.45  1039.05  1041.60  7812063\n",
      "3 2019-01-04 00:00:00+05:30  1046.05  1052.75  1030.50  1047.25  8880762\n",
      "4 2019-01-07 00:00:00+05:30  1055.20  1066.10  1049.45  1053.05  5784264\n",
      "5 2019-01-08 00:00:00+05:30  1053.35  1058.00  1044.70  1052.95  5901337\n",
      "6 2019-01-09 00:00:00+05:30  1059.95  1064.70  1047.30  1058.75  6049944\n",
      "7 2019-01-10 00:00:00+05:30  1055.90  1059.00  1051.40  1055.65  4280617\n",
      "8 2019-01-11 00:00:00+05:30  1055.75  1061.65  1037.65  1046.65  6781268\n",
      "9 2019-01-14 00:00:00+05:30  1043.75  1049.00  1035.55  1045.45  4313662\n"
     ]
    }
   ],
   "source": [
    "zap=kite.historical_data(token,starting_date,ending_date,\"day\")\n",
    "zap= pd.DataFrame(zap)\n",
    "print(zap.head(10))"
   ]
  },
  {
   "cell_type": "code",
   "execution_count": null,
   "id": "a94ee70f",
   "metadata": {},
   "outputs": [],
   "source": []
  }
 ],
 "metadata": {
  "kernelspec": {
   "display_name": "Python 3 (ipykernel)",
   "language": "python",
   "name": "python3"
  },
  "language_info": {
   "codemirror_mode": {
    "name": "ipython",
    "version": 3
   },
   "file_extension": ".py",
   "mimetype": "text/x-python",
   "name": "python",
   "nbconvert_exporter": "python",
   "pygments_lexer": "ipython3",
   "version": "3.10.12"
  }
 },
 "nbformat": 4,
 "nbformat_minor": 5
}
