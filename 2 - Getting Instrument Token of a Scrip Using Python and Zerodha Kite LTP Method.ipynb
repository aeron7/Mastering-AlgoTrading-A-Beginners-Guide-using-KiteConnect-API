{
 "cells": [
  {
   "cell_type": "code",
   "execution_count": null,
   "id": "1a6b80c8",
   "metadata": {},
   "outputs": [],
   "source": [
    "# https://unofficed.com/courses/mastering-algotrading-a-beginners-guide-using-kiteconnect-api/lessons/getting-instrument-token-zerodha-kite-ltp-method/"
   ]
  },
  {
   "cell_type": "code",
   "execution_count": 1,
   "id": "2d47c7e8",
   "metadata": {},
   "outputs": [
    {
     "name": "stderr",
     "output_type": "stream",
     "text": [
      "/tmp/ipykernel_4126731/1105643221.py:8: DtypeWarning: Columns (1) have mixed types.Specify dtype option on import or set low_memory=False.\n",
      "  from kite.kitecustom import *\n"
     ]
    }
   ],
   "source": [
    "import logging\n",
    "from kiteconnect import KiteConnect\n",
    "\n",
    "logging.basicConfig(level=logging.DEBUG)\n",
    "\n",
    "kite = KiteConnect(api_key=\"your_api_key\")\n",
    "\n",
    "# Redirect the user to the login url obtained\n",
    "# from kite.login_url(), and receive the request_token\n",
    "# from the registered redirect url after the login flow.\n",
    "# Once you have the request_token, obtain the access_token\n",
    "# as follows.\n",
    "\n",
    "data = kite.generate_session(\"request_token_here\", api_secret=\"your_secret\")\n",
    "kite.set_access_token(data[\"access_token\"])"
   ]
  },
  {
   "cell_type": "code",
   "execution_count": 3,
   "id": "cb04de4d",
   "metadata": {},
   "outputs": [
    {
     "data": {
      "text/plain": [
       "{'NSE:RELIANCE': {'instrument_token': 738561, 'last_price': 2397.65}}"
      ]
     },
     "execution_count": 3,
     "metadata": {},
     "output_type": "execute_result"
    }
   ],
   "source": [
    "# Use Kite Connect's search instruments API to find RELIANCE's instrument token\n",
    "instruments = kite.ltp(['NSE:RELIANCE'])\n",
    "instruments"
   ]
  },
  {
   "cell_type": "code",
   "execution_count": 4,
   "id": "110282f3",
   "metadata": {},
   "outputs": [
    {
     "name": "stdout",
     "output_type": "stream",
     "text": [
      "738561\n"
     ]
    }
   ],
   "source": [
    "# Check if the instrument token for RELIANCE is in the instruments dictionary\n",
    "if 'NSE:RELIANCE' in instruments:\n",
    "    instrument_token = instruments['NSE:RELIANCE']['instrument_token']\n",
    "    print(instrument_token)"
   ]
  },
  {
   "cell_type": "code",
   "execution_count": null,
   "id": "fd00ee05",
   "metadata": {},
   "outputs": [],
   "source": []
  }
 ],
 "metadata": {
  "kernelspec": {
   "display_name": "Python 3 (ipykernel)",
   "language": "python",
   "name": "python3"
  },
  "language_info": {
   "codemirror_mode": {
    "name": "ipython",
    "version": 3
   },
   "file_extension": ".py",
   "mimetype": "text/x-python",
   "name": "python",
   "nbconvert_exporter": "python",
   "pygments_lexer": "ipython3",
   "version": "3.10.12"
  }
 },
 "nbformat": 4,
 "nbformat_minor": 5
}
