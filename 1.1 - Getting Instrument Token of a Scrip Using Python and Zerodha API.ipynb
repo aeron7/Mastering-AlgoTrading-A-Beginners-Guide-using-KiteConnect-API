{
 "cells": [
  {
   "cell_type": "code",
   "execution_count": null,
   "id": "2eb7c931",
   "metadata": {},
   "outputs": [],
   "source": [
    "# https://unofficed.com/courses/mastering-algotrading-a-beginners-guide-using-kiteconnect-api/lessons/getting-instrument-token-of-a-scrip-using-python-and-zerodha-api/"
   ]
  },
  {
   "cell_type": "code",
   "execution_count": 1,
   "id": "a59c49d2",
   "metadata": {},
   "outputs": [
    {
     "name": "stderr",
     "output_type": "stream",
     "text": [
      "/tmp/ipykernel_4126091/2308159906.py:10: DtypeWarning: Columns (1) have mixed types.Specify dtype option on import or set low_memory=False.\n",
      "  from kite.kitecustom import *\n"
     ]
    }
   ],
   "source": [
    "import logging\n",
    "from kiteconnect import KiteConnect\n",
    "\n",
    "logging.basicConfig(level=logging.DEBUG)\n",
    "\n",
    "kite = KiteConnect(api_key=\"your_api_key\")\n",
    "\n",
    "# Redirect the user to the login url obtained\n",
    "# from kite.login_url(), and receive the request_token\n",
    "# from the registered redirect url after the login flow.\n",
    "# Once you have the request_token, obtain the access_token\n",
    "# as follows.\n",
    "\n",
    "data = kite.generate_session(\"request_token_here\", api_secret=\"your_secret\")\n",
    "kite.set_access_token(data[\"access_token\"])"
   ]
  },
  {
   "cell_type": "code",
   "execution_count": 2,
   "id": "56ed6214",
   "metadata": {},
   "outputs": [
    {
     "name": "stdout",
     "output_type": "stream",
     "text": [
      "       instrument_token  exchange_token       tradingsymbol  \\\n",
      "0             537733638         2100522  EURINR23DEC83.25CE   \n",
      "1             537730310         2100509  EURINR23DEC83.25PE   \n",
      "2             537617158         2100067   EURINR23DEC83.5CE   \n",
      "3             537614342         2100056   EURINR23DEC83.5PE   \n",
      "4             537747718         2100577  EURINR23DEC83.75CE   \n",
      "...                 ...             ...                 ...   \n",
      "98011           2916865           11394                ZOTA   \n",
      "98012           7436801           29050               ZUARI   \n",
      "98013            979713            3827            ZUARIIND   \n",
      "98014           2029825            7929           ZYDUSLIFE   \n",
      "98015           4514561           17635           ZYDUSWELL   \n",
      "\n",
      "                       name  last_price      expiry  strike  tick_size  \\\n",
      "0                    EURINR           0  2023-12-27   83.25     0.0025   \n",
      "1                    EURINR           0  2023-12-27   83.25     0.0025   \n",
      "2                    EURINR           0  2023-12-27   83.50     0.0025   \n",
      "3                    EURINR           0  2023-12-27   83.50     0.0025   \n",
      "4                    EURINR           0  2023-12-27   83.75     0.0025   \n",
      "...                     ...         ...         ...     ...        ...   \n",
      "98011      ZOTA HEALTH CARE           0         NaN    0.00     0.0500   \n",
      "98012  ZUARI AGRO CHEMICALS           0         NaN    0.00     0.0500   \n",
      "98013      ZUARI INDUSTRIES           0         NaN    0.00     0.0500   \n",
      "98014    ZYDUS LIFESCIENCES           0         NaN    0.00     0.0500   \n",
      "98015        ZYDUS WELLNESS           0         NaN    0.00     0.0500   \n",
      "\n",
      "       lot_size instrument_type  segment exchange  \n",
      "0             1              CE  BCD-OPT      BCD  \n",
      "1             1              PE  BCD-OPT      BCD  \n",
      "2             1              CE  BCD-OPT      BCD  \n",
      "3             1              PE  BCD-OPT      BCD  \n",
      "4             1              CE  BCD-OPT      BCD  \n",
      "...         ...             ...      ...      ...  \n",
      "98011         1              EQ      NSE      NSE  \n",
      "98012         1              EQ      NSE      NSE  \n",
      "98013         1              EQ      NSE      NSE  \n",
      "98014         1              EQ      NSE      NSE  \n",
      "98015         1              EQ      NSE      NSE  \n",
      "\n",
      "[98016 rows x 12 columns]\n"
     ]
    }
   ],
   "source": [
    "import pandas as pd\n",
    "\n",
    "instrumentList = pd.read_csv(\"https://api.kite.trade/instruments\")\n",
    "print(instrumentList)"
   ]
  },
  {
   "cell_type": "code",
   "execution_count": 3,
   "id": "219b9be3",
   "metadata": {},
   "outputs": [
    {
     "name": "stdout",
     "output_type": "stream",
     "text": [
      "       instrument_token  exchange_token tradingsymbol                 name  \\\n",
      "97272            738561            2885      RELIANCE  RELIANCE INDUSTRIES   \n",
      "\n",
      "       last_price expiry  strike  tick_size  lot_size instrument_type segment  \\\n",
      "97272           0    NaN     0.0       0.05         1              EQ     NSE   \n",
      "\n",
      "      exchange  \n",
      "97272      NSE  \n"
     ]
    }
   ],
   "source": [
    "tradesymbol = \"RELIANCE\"\n",
    "exchange = \"NSE\"\n",
    "dataToken = instrumentList[(instrumentList['tradingsymbol'] == tradesymbol)&(instrumentList['exchange']==exchange)]\n",
    "print(dataToken)"
   ]
  },
  {
   "cell_type": "code",
   "execution_count": 5,
   "id": "8c813dd5",
   "metadata": {},
   "outputs": [],
   "source": [
    "def get_insToken(tradesymbol,exchange=\"NFO\"):\n",
    "    if(exchange==\"NSE\"):\n",
    "        if(tradesymbol==\"NIFTY\"):tradesymbol=\"NIFTY 50\"\n",
    "        if(tradesymbol==\"BANKNIFTY\"):tradesymbol=\"NIFTY BANK\"\n",
    "        if(tradesymbol==\"FINNIFTY\"):tradesymbol=\"NIFTY FIN SERVICE\"\n",
    "    dataToken = instrumentList[(instrumentList['tradingsymbol'] == tradesymbol)&(instrumentList['exchange']==exchange)]\n",
    "    return dataToken.instrument_token.iloc[0]"
   ]
  },
  {
   "cell_type": "code",
   "execution_count": 6,
   "id": "df9ec918",
   "metadata": {},
   "outputs": [
    {
     "name": "stdout",
     "output_type": "stream",
     "text": [
      "738561\n"
     ]
    }
   ],
   "source": [
    "symbol = \"RELIANCE\"\n",
    "token = get_insToken(symbol,\"NSE\")\n",
    "print(token)"
   ]
  },
  {
   "cell_type": "code",
   "execution_count": null,
   "id": "036e1aa7",
   "metadata": {},
   "outputs": [],
   "source": []
  }
 ],
 "metadata": {
  "kernelspec": {
   "display_name": "Python 3 (ipykernel)",
   "language": "python",
   "name": "python3"
  },
  "language_info": {
   "codemirror_mode": {
    "name": "ipython",
    "version": 3
   },
   "file_extension": ".py",
   "mimetype": "text/x-python",
   "name": "python",
   "nbconvert_exporter": "python",
   "pygments_lexer": "ipython3",
   "version": "3.10.12"
  }
 },
 "nbformat": 4,
 "nbformat_minor": 5
}
