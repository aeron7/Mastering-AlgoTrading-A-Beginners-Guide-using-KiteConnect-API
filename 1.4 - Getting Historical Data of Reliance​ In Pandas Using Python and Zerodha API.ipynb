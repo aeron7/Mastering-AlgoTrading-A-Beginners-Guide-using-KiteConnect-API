{
 "cells": [
  {
   "cell_type": "code",
   "execution_count": null,
   "id": "80cf8822",
   "metadata": {},
   "outputs": [],
   "source": [
    "# https://unofficed.com/courses/mastering-algotrading-a-beginners-guide-using-kiteconnect-api/lessons/getting-historical-data-of-reliance-stocks-using-python-and-zerodha-api/"
   ]
  },
  {
   "cell_type": "code",
   "execution_count": 1,
   "id": "1d446c7b",
   "metadata": {},
   "outputs": [
    {
     "name": "stderr",
     "output_type": "stream",
     "text": [
      "/tmp/ipykernel_4154679/3058104947.py:7: DtypeWarning: Columns (1) have mixed types.Specify dtype option on import or set low_memory=False.\n",
      "  from kite.kitecustom import *\n"
     ]
    }
   ],
   "source": [
    "import logging\n",
    "from kiteconnect import KiteConnect\n",
    "\n",
    "logging.basicConfig(level=logging.DEBUG)\n",
    "\n",
    "kite = KiteConnect(api_key=\"your_api_key\")\n",
    "\n",
    "# Redirect the user to the login url obtained\n",
    "# from kite.login_url(), and receive the request_token\n",
    "# from the registered redirect url after the login flow.\n",
    "# Once you have the request_token, obtain the access_token\n",
    "# as follows.\n",
    "\n",
    "data = kite.generate_session(\"request_token_here\", api_secret=\"your_secret\")\n",
    "kite.set_access_token(data[\"access_token\"])"
   ]
  },
  {
   "cell_type": "code",
   "execution_count": 2,
   "id": "58dbcb1d",
   "metadata": {},
   "outputs": [],
   "source": [
    "token = 738561"
   ]
  },
  {
   "cell_type": "code",
   "execution_count": 3,
   "id": "3a7cc37a",
   "metadata": {},
   "outputs": [],
   "source": [
    "import datetime\n",
    "starting_date=datetime.datetime(2019, 1, 1)\n",
    "ending_date=datetime.datetime.today()"
   ]
  },
  {
   "cell_type": "code",
   "execution_count": 4,
   "id": "eb26ad4c",
   "metadata": {},
   "outputs": [
    {
     "name": "stdout",
     "output_type": "stream",
     "text": [
      "                       date     open     high      low    close   volume\n",
      "0 2019-01-01 00:00:00+05:30  1072.60  1074.55  1058.15  1068.55  4674623\n",
      "1 2019-01-02 00:00:00+05:30  1062.35  1074.25  1049.45  1054.60  7495774\n",
      "2 2019-01-03 00:00:00+05:30  1055.65  1062.45  1039.05  1041.60  7812063\n",
      "3 2019-01-04 00:00:00+05:30  1046.05  1052.75  1030.50  1047.25  8880762\n",
      "4 2019-01-07 00:00:00+05:30  1055.20  1066.10  1049.45  1053.05  5784264\n",
      "5 2019-01-08 00:00:00+05:30  1053.35  1058.00  1044.70  1052.95  5901337\n",
      "6 2019-01-09 00:00:00+05:30  1059.95  1064.70  1047.30  1058.75  6049944\n",
      "7 2019-01-10 00:00:00+05:30  1055.90  1059.00  1051.40  1055.65  4280617\n",
      "8 2019-01-11 00:00:00+05:30  1055.75  1061.65  1037.65  1046.65  6781268\n",
      "9 2019-01-14 00:00:00+05:30  1043.75  1049.00  1035.55  1045.45  4313662\n"
     ]
    }
   ],
   "source": [
    "zap=kite.historical_data(token,starting_date,ending_date,\"day\")\n",
    "zap= pd.DataFrame(zap)\n",
    "print(zap.head(10))"
   ]
  },
  {
   "cell_type": "code",
   "execution_count": 6,
   "id": "a94ee70f",
   "metadata": {},
   "outputs": [
    {
     "ename": "InputException",
     "evalue": "interval exceeds max limit: 60 days",
     "output_type": "error",
     "traceback": [
      "\u001b[0;31m---------------------------------------------------------------------------\u001b[0m",
      "\u001b[0;31mInputException\u001b[0m                            Traceback (most recent call last)",
      "Cell \u001b[0;32mIn[6], line 1\u001b[0m\n\u001b[0;32m----> 1\u001b[0m zap\u001b[38;5;241m=\u001b[39m\u001b[43mkite\u001b[49m\u001b[38;5;241;43m.\u001b[39;49m\u001b[43mhistorical_data\u001b[49m\u001b[43m(\u001b[49m\u001b[43mtoken\u001b[49m\u001b[43m,\u001b[49m\u001b[43mstarting_date\u001b[49m\u001b[43m,\u001b[49m\u001b[43mending_date\u001b[49m\u001b[43m,\u001b[49m\u001b[38;5;124;43m\"\u001b[39;49m\u001b[38;5;124;43mminute\u001b[39;49m\u001b[38;5;124;43m\"\u001b[39;49m\u001b[43m)\u001b[49m\n\u001b[1;32m      2\u001b[0m zap\u001b[38;5;241m=\u001b[39m pd\u001b[38;5;241m.\u001b[39mDataFrame(zap)\n\u001b[1;32m      3\u001b[0m \u001b[38;5;28mprint\u001b[39m(zap\u001b[38;5;241m.\u001b[39mhead(\u001b[38;5;241m10\u001b[39m))\n",
      "File \u001b[0;32m~/apps/zerodha/../kiteconnect/connect.py:503\u001b[0m, in \u001b[0;36mKiteConnect.historical_data\u001b[0;34m(self, instrument_token, from_date, to_date, interval, continuous, oi)\u001b[0m\n\u001b[1;32m    500\u001b[0m from_date_string \u001b[38;5;241m=\u001b[39m from_date\u001b[38;5;241m.\u001b[39mstrftime(date_string_format) \u001b[38;5;28;01mif\u001b[39;00m \u001b[38;5;28mtype\u001b[39m(from_date) \u001b[38;5;241m==\u001b[39m datetime\u001b[38;5;241m.\u001b[39mdatetime \u001b[38;5;28;01melse\u001b[39;00m from_date\n\u001b[1;32m    501\u001b[0m to_date_string \u001b[38;5;241m=\u001b[39m to_date\u001b[38;5;241m.\u001b[39mstrftime(date_string_format) \u001b[38;5;28;01mif\u001b[39;00m \u001b[38;5;28mtype\u001b[39m(to_date) \u001b[38;5;241m==\u001b[39m datetime\u001b[38;5;241m.\u001b[39mdatetime \u001b[38;5;28;01melse\u001b[39;00m to_date\n\u001b[0;32m--> 503\u001b[0m data \u001b[38;5;241m=\u001b[39m \u001b[38;5;28;43mself\u001b[39;49m\u001b[38;5;241;43m.\u001b[39;49m\u001b[43m_get\u001b[49m\u001b[43m(\u001b[49m\u001b[38;5;124;43m\"\u001b[39;49m\u001b[38;5;124;43mmarket.historical\u001b[39;49m\u001b[38;5;124;43m\"\u001b[39;49m\u001b[43m,\u001b[49m\u001b[43m \u001b[49m\u001b[43m{\u001b[49m\n\u001b[1;32m    504\u001b[0m \u001b[43m    \u001b[49m\u001b[38;5;124;43m\"\u001b[39;49m\u001b[38;5;124;43minstrument_token\u001b[39;49m\u001b[38;5;124;43m\"\u001b[39;49m\u001b[43m:\u001b[49m\u001b[43m \u001b[49m\u001b[43minstrument_token\u001b[49m\u001b[43m,\u001b[49m\n\u001b[1;32m    505\u001b[0m \u001b[43m    \u001b[49m\u001b[38;5;124;43m\"\u001b[39;49m\u001b[38;5;124;43mfrom\u001b[39;49m\u001b[38;5;124;43m\"\u001b[39;49m\u001b[43m:\u001b[49m\u001b[43m \u001b[49m\u001b[43mfrom_date_string\u001b[49m\u001b[43m,\u001b[49m\n\u001b[1;32m    506\u001b[0m \u001b[43m    \u001b[49m\u001b[38;5;124;43m\"\u001b[39;49m\u001b[38;5;124;43mto\u001b[39;49m\u001b[38;5;124;43m\"\u001b[39;49m\u001b[43m:\u001b[49m\u001b[43m \u001b[49m\u001b[43mto_date_string\u001b[49m\u001b[43m,\u001b[49m\n\u001b[1;32m    507\u001b[0m \u001b[43m    \u001b[49m\u001b[38;5;124;43m\"\u001b[39;49m\u001b[38;5;124;43minterval\u001b[39;49m\u001b[38;5;124;43m\"\u001b[39;49m\u001b[43m:\u001b[49m\u001b[43m \u001b[49m\u001b[43minterval\u001b[49m\u001b[43m,\u001b[49m\n\u001b[1;32m    508\u001b[0m \u001b[43m    \u001b[49m\u001b[38;5;124;43m\"\u001b[39;49m\u001b[38;5;124;43mcontinuous\u001b[39;49m\u001b[38;5;124;43m\"\u001b[39;49m\u001b[43m:\u001b[49m\u001b[43m \u001b[49m\u001b[38;5;241;43m1\u001b[39;49m\u001b[43m \u001b[49m\u001b[38;5;28;43;01mif\u001b[39;49;00m\u001b[43m \u001b[49m\u001b[43mcontinuous\u001b[49m\u001b[43m \u001b[49m\u001b[38;5;28;43;01melse\u001b[39;49;00m\u001b[43m \u001b[49m\u001b[38;5;241;43m0\u001b[39;49m\u001b[43m,\u001b[49m\n\u001b[1;32m    509\u001b[0m \u001b[43m    \u001b[49m\u001b[38;5;124;43m\"\u001b[39;49m\u001b[38;5;124;43moi\u001b[39;49m\u001b[38;5;124;43m\"\u001b[39;49m\u001b[43m:\u001b[49m\u001b[43m \u001b[49m\u001b[38;5;241;43m1\u001b[39;49m\u001b[43m \u001b[49m\u001b[38;5;28;43;01mif\u001b[39;49;00m\u001b[43m \u001b[49m\u001b[43moi\u001b[49m\u001b[43m \u001b[49m\u001b[38;5;28;43;01melse\u001b[39;49;00m\u001b[43m \u001b[49m\u001b[38;5;241;43m0\u001b[39;49m\n\u001b[1;32m    510\u001b[0m \u001b[43m\u001b[49m\u001b[43m}\u001b[49m\u001b[43m)\u001b[49m\n\u001b[1;32m    512\u001b[0m \u001b[38;5;28;01mreturn\u001b[39;00m \u001b[38;5;28mself\u001b[39m\u001b[38;5;241m.\u001b[39m_format_historical(data, oi)\n",
      "File \u001b[0;32m~/apps/zerodha/../kiteconnect/connect.py:601\u001b[0m, in \u001b[0;36mKiteConnect._get\u001b[0;34m(self, route, params)\u001b[0m\n\u001b[1;32m    599\u001b[0m \u001b[38;5;28;01mdef\u001b[39;00m \u001b[38;5;21m_get\u001b[39m(\u001b[38;5;28mself\u001b[39m, route, params\u001b[38;5;241m=\u001b[39m\u001b[38;5;28;01mNone\u001b[39;00m):\n\u001b[1;32m    600\u001b[0m \u001b[38;5;250m    \u001b[39m\u001b[38;5;124;03m\"\"\"Alias for sending a GET request.\"\"\"\u001b[39;00m\n\u001b[0;32m--> 601\u001b[0m     \u001b[38;5;28;01mreturn\u001b[39;00m \u001b[38;5;28;43mself\u001b[39;49m\u001b[38;5;241;43m.\u001b[39;49m\u001b[43m_request\u001b[49m\u001b[43m(\u001b[49m\u001b[43mroute\u001b[49m\u001b[43m,\u001b[49m\u001b[43m \u001b[49m\u001b[38;5;124;43m\"\u001b[39;49m\u001b[38;5;124;43mGET\u001b[39;49m\u001b[38;5;124;43m\"\u001b[39;49m\u001b[43m,\u001b[49m\u001b[43m \u001b[49m\u001b[43mparams\u001b[49m\u001b[43m)\u001b[49m\n",
      "File \u001b[0;32m~/apps/zerodha/../kiteconnect/connect.py:671\u001b[0m, in \u001b[0;36mKiteConnect._request\u001b[0;34m(self, route, method, parameters)\u001b[0m\n\u001b[1;32m    669\u001b[0m         \u001b[38;5;66;03m# native Kite errors\u001b[39;00m\n\u001b[1;32m    670\u001b[0m         exp \u001b[38;5;241m=\u001b[39m \u001b[38;5;28mgetattr\u001b[39m(ex, data[\u001b[38;5;124m\"\u001b[39m\u001b[38;5;124merror_type\u001b[39m\u001b[38;5;124m\"\u001b[39m], ex\u001b[38;5;241m.\u001b[39mGeneralException)\n\u001b[0;32m--> 671\u001b[0m         \u001b[38;5;28;01mraise\u001b[39;00m exp(data[\u001b[38;5;124m\"\u001b[39m\u001b[38;5;124mmessage\u001b[39m\u001b[38;5;124m\"\u001b[39m], code\u001b[38;5;241m=\u001b[39mr\u001b[38;5;241m.\u001b[39mstatus_code)\n\u001b[1;32m    673\u001b[0m     \u001b[38;5;28;01mreturn\u001b[39;00m data[\u001b[38;5;124m\"\u001b[39m\u001b[38;5;124mdata\u001b[39m\u001b[38;5;124m\"\u001b[39m]\n\u001b[1;32m    674\u001b[0m \u001b[38;5;28;01melif\u001b[39;00m \u001b[38;5;124m\"\u001b[39m\u001b[38;5;124mcsv\u001b[39m\u001b[38;5;124m\"\u001b[39m \u001b[38;5;129;01min\u001b[39;00m r\u001b[38;5;241m.\u001b[39mheaders[\u001b[38;5;124m\"\u001b[39m\u001b[38;5;124mcontent-type\u001b[39m\u001b[38;5;124m\"\u001b[39m]:\n",
      "\u001b[0;31mInputException\u001b[0m: interval exceeds max limit: 60 days"
     ]
    }
   ],
   "source": [
    "zap=kite.historical_data(token,starting_date,ending_date,\"minute\")\n",
    "zap= pd.DataFrame(zap)\n",
    "print(zap.head(10))"
   ]
  },
  {
   "cell_type": "code",
   "execution_count": 7,
   "id": "127aa37e",
   "metadata": {},
   "outputs": [
    {
     "data": {
      "text/html": [
       "<div>\n",
       "<style scoped>\n",
       "    .dataframe tbody tr th:only-of-type {\n",
       "        vertical-align: middle;\n",
       "    }\n",
       "\n",
       "    .dataframe tbody tr th {\n",
       "        vertical-align: top;\n",
       "    }\n",
       "\n",
       "    .dataframe thead th {\n",
       "        text-align: right;\n",
       "    }\n",
       "</style>\n",
       "<table border=\"1\" class=\"dataframe\">\n",
       "  <thead>\n",
       "    <tr style=\"text-align: right;\">\n",
       "      <th></th>\n",
       "      <th>date</th>\n",
       "      <th>open</th>\n",
       "      <th>high</th>\n",
       "      <th>low</th>\n",
       "      <th>close</th>\n",
       "      <th>volume</th>\n",
       "    </tr>\n",
       "  </thead>\n",
       "  <tbody>\n",
       "    <tr>\n",
       "      <th>0</th>\n",
       "      <td>2019-01-01 09:15:00+05:30</td>\n",
       "      <td>1062.55</td>\n",
       "      <td>1063.90</td>\n",
       "      <td>1060.25</td>\n",
       "      <td>1061.65</td>\n",
       "      <td>53427</td>\n",
       "    </tr>\n",
       "    <tr>\n",
       "      <th>1</th>\n",
       "      <td>2019-01-01 09:16:00+05:30</td>\n",
       "      <td>1062.25</td>\n",
       "      <td>1063.85</td>\n",
       "      <td>1061.65</td>\n",
       "      <td>1063.40</td>\n",
       "      <td>18209</td>\n",
       "    </tr>\n",
       "    <tr>\n",
       "      <th>2</th>\n",
       "      <td>2019-01-01 09:17:00+05:30</td>\n",
       "      <td>1063.40</td>\n",
       "      <td>1063.90</td>\n",
       "      <td>1063.25</td>\n",
       "      <td>1063.40</td>\n",
       "      <td>42785</td>\n",
       "    </tr>\n",
       "    <tr>\n",
       "      <th>3</th>\n",
       "      <td>2019-01-01 09:18:00+05:30</td>\n",
       "      <td>1063.40</td>\n",
       "      <td>1063.50</td>\n",
       "      <td>1062.30</td>\n",
       "      <td>1062.60</td>\n",
       "      <td>40647</td>\n",
       "    </tr>\n",
       "    <tr>\n",
       "      <th>4</th>\n",
       "      <td>2019-01-01 09:19:00+05:30</td>\n",
       "      <td>1062.30</td>\n",
       "      <td>1062.30</td>\n",
       "      <td>1059.50</td>\n",
       "      <td>1059.50</td>\n",
       "      <td>44316</td>\n",
       "    </tr>\n",
       "    <tr>\n",
       "      <th>...</th>\n",
       "      <td>...</td>\n",
       "      <td>...</td>\n",
       "      <td>...</td>\n",
       "      <td>...</td>\n",
       "      <td>...</td>\n",
       "      <td>...</td>\n",
       "    </tr>\n",
       "    <tr>\n",
       "      <th>454063</th>\n",
       "      <td>2023-11-24 15:25:00+05:30</td>\n",
       "      <td>2395.95</td>\n",
       "      <td>2396.75</td>\n",
       "      <td>2395.00</td>\n",
       "      <td>2395.65</td>\n",
       "      <td>18228</td>\n",
       "    </tr>\n",
       "    <tr>\n",
       "      <th>454064</th>\n",
       "      <td>2023-11-24 15:26:00+05:30</td>\n",
       "      <td>2395.55</td>\n",
       "      <td>2396.00</td>\n",
       "      <td>2394.85</td>\n",
       "      <td>2394.85</td>\n",
       "      <td>12166</td>\n",
       "    </tr>\n",
       "    <tr>\n",
       "      <th>454065</th>\n",
       "      <td>2023-11-24 15:27:00+05:30</td>\n",
       "      <td>2395.00</td>\n",
       "      <td>2395.30</td>\n",
       "      <td>2394.50</td>\n",
       "      <td>2394.80</td>\n",
       "      <td>17623</td>\n",
       "    </tr>\n",
       "    <tr>\n",
       "      <th>454066</th>\n",
       "      <td>2023-11-24 15:28:00+05:30</td>\n",
       "      <td>2394.55</td>\n",
       "      <td>2394.80</td>\n",
       "      <td>2394.00</td>\n",
       "      <td>2394.00</td>\n",
       "      <td>19879</td>\n",
       "    </tr>\n",
       "    <tr>\n",
       "      <th>454067</th>\n",
       "      <td>2023-11-24 15:29:00+05:30</td>\n",
       "      <td>2394.40</td>\n",
       "      <td>2394.90</td>\n",
       "      <td>2394.00</td>\n",
       "      <td>2394.25</td>\n",
       "      <td>9111</td>\n",
       "    </tr>\n",
       "  </tbody>\n",
       "</table>\n",
       "<p>454068 rows × 6 columns</p>\n",
       "</div>"
      ],
      "text/plain": [
       "                            date     open     high      low    close  volume\n",
       "0      2019-01-01 09:15:00+05:30  1062.55  1063.90  1060.25  1061.65   53427\n",
       "1      2019-01-01 09:16:00+05:30  1062.25  1063.85  1061.65  1063.40   18209\n",
       "2      2019-01-01 09:17:00+05:30  1063.40  1063.90  1063.25  1063.40   42785\n",
       "3      2019-01-01 09:18:00+05:30  1063.40  1063.50  1062.30  1062.60   40647\n",
       "4      2019-01-01 09:19:00+05:30  1062.30  1062.30  1059.50  1059.50   44316\n",
       "...                          ...      ...      ...      ...      ...     ...\n",
       "454063 2023-11-24 15:25:00+05:30  2395.95  2396.75  2395.00  2395.65   18228\n",
       "454064 2023-11-24 15:26:00+05:30  2395.55  2396.00  2394.85  2394.85   12166\n",
       "454065 2023-11-24 15:27:00+05:30  2395.00  2395.30  2394.50  2394.80   17623\n",
       "454066 2023-11-24 15:28:00+05:30  2394.55  2394.80  2394.00  2394.00   19879\n",
       "454067 2023-11-24 15:29:00+05:30  2394.40  2394.90  2394.00  2394.25    9111\n",
       "\n",
       "[454068 rows x 6 columns]"
      ]
     },
     "execution_count": 7,
     "metadata": {},
     "output_type": "execute_result"
    }
   ],
   "source": [
    "def fetch_historical_data(kite, token, start_date, end_date, interval):\n",
    "    # Initialize an empty DataFrame to store the historical data\n",
    "    full_data = pd.DataFrame()\n",
    "\n",
    "    # Split the date range into 60-day intervals\n",
    "    while start_date < end_date:\n",
    "        # Calculate the end date of the 60-day interval\n",
    "        interval_end = start_date + datetime.timedelta(days=60)\n",
    "\n",
    "        # Ensure the interval end does not exceed the overall end date\n",
    "        if interval_end > end_date:\n",
    "            interval_end = end_date\n",
    "\n",
    "        # Fetch historical data for the 60-day interval\n",
    "        data = kite.historical_data(token, start_date, interval_end, interval)\n",
    "        data_df = pd.DataFrame(data)\n",
    "\n",
    "        # Append the fetched data to the full dataset\n",
    "        full_data = full_data.append(data_df, ignore_index=True)\n",
    "\n",
    "        # Update the start date for the next interval\n",
    "        start_date = interval_end\n",
    "\n",
    "    return full_data\n",
    "\n",
    "historical_data = fetch_historical_data(kite, token, starting_date, ending_date, \"minute\")\n",
    "historical_data"
   ]
  },
  {
   "cell_type": "code",
   "execution_count": null,
   "id": "e51b086c",
   "metadata": {},
   "outputs": [],
   "source": []
  }
 ],
 "metadata": {
  "kernelspec": {
   "display_name": "Python 3 (ipykernel)",
   "language": "python",
   "name": "python3"
  },
  "language_info": {
   "codemirror_mode": {
    "name": "ipython",
    "version": 3
   },
   "file_extension": ".py",
   "mimetype": "text/x-python",
   "name": "python",
   "nbconvert_exporter": "python",
   "pygments_lexer": "ipython3",
   "version": "3.10.12"
  }
 },
 "nbformat": 4,
 "nbformat_minor": 5
}
